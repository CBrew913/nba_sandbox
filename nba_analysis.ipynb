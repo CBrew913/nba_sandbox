{
 "cells": [
  {
   "cell_type": "code",
   "execution_count": 1,
   "id": "d09d989d",
   "metadata": {},
   "outputs": [],
   "source": [
    "%matplotlib inline\n",
    "%matplotlib notebook\n",
    "\n",
    "# Dependencies\n",
    "import requests\n",
    "import matplotlib.pyplot as plt\n",
    "import pandas as pd\n",
    "import seaborn as sns\n",
    "import json\n",
    "import pprint"
   ]
  },
  {
   "cell_type": "code",
   "execution_count": 2,
   "id": "146b4330",
   "metadata": {},
   "outputs": [
    {
     "data": {
      "text/html": [
       "<div>\n",
       "<style scoped>\n",
       "    .dataframe tbody tr th:only-of-type {\n",
       "        vertical-align: middle;\n",
       "    }\n",
       "\n",
       "    .dataframe tbody tr th {\n",
       "        vertical-align: top;\n",
       "    }\n",
       "\n",
       "    .dataframe thead th {\n",
       "        text-align: right;\n",
       "    }\n",
       "</style>\n",
       "<table border=\"1\" class=\"dataframe\">\n",
       "  <thead>\n",
       "    <tr style=\"text-align: right;\">\n",
       "      <th></th>\n",
       "      <th>id</th>\n",
       "      <th>full_name</th>\n",
       "    </tr>\n",
       "  </thead>\n",
       "  <tbody>\n",
       "    <tr>\n",
       "      <th>156</th>\n",
       "      <td>1629655</td>\n",
       "      <td>Daniel Gafford</td>\n",
       "    </tr>\n",
       "    <tr>\n",
       "      <th>277</th>\n",
       "      <td>1630249</td>\n",
       "      <td>Vit Krejci</td>\n",
       "    </tr>\n",
       "    <tr>\n",
       "      <th>162</th>\n",
       "      <td>202331</td>\n",
       "      <td>Paul George</td>\n",
       "    </tr>\n",
       "    <tr>\n",
       "      <th>179</th>\n",
       "      <td>1629750</td>\n",
       "      <td>Javonte Green</td>\n",
       "    </tr>\n",
       "    <tr>\n",
       "      <th>167</th>\n",
       "      <td>1631221</td>\n",
       "      <td>Collin Gillespie</td>\n",
       "    </tr>\n",
       "    <tr>\n",
       "      <th>209</th>\n",
       "      <td>1629312</td>\n",
       "      <td>Haywood Highsmith</td>\n",
       "    </tr>\n",
       "    <tr>\n",
       "      <th>26</th>\n",
       "      <td>1630625</td>\n",
       "      <td>Dalano Banton</td>\n",
       "    </tr>\n",
       "    <tr>\n",
       "      <th>107</th>\n",
       "      <td>203552</td>\n",
       "      <td>Seth Curry</td>\n",
       "    </tr>\n",
       "    <tr>\n",
       "      <th>340</th>\n",
       "      <td>1630596</td>\n",
       "      <td>Evan Mobley</td>\n",
       "    </tr>\n",
       "    <tr>\n",
       "      <th>181</th>\n",
       "      <td>1630182</td>\n",
       "      <td>Josh Green</td>\n",
       "    </tr>\n",
       "  </tbody>\n",
       "</table>\n",
       "</div>"
      ],
      "text/plain": [
       "          id          full_name\n",
       "156  1629655     Daniel Gafford\n",
       "277  1630249         Vit Krejci\n",
       "162   202331        Paul George\n",
       "179  1629750      Javonte Green\n",
       "167  1631221   Collin Gillespie\n",
       "209  1629312  Haywood Highsmith\n",
       "26   1630625      Dalano Banton\n",
       "107   203552         Seth Curry\n",
       "340  1630596        Evan Mobley\n",
       "181  1630182         Josh Green"
      ]
     },
     "execution_count": 2,
     "metadata": {},
     "output_type": "execute_result"
    }
   ],
   "source": [
    "from nba_api.stats.static import players\n",
    "players = players.get_active_players()\n",
    "players_df = pd.DataFrame(players)\n",
    "players_df = players_df[['id', 'full_name']]\n",
    "players_df.sort_values(by=['id'])\n",
    "players_df.sample(10)"
   ]
  },
  {
   "cell_type": "code",
   "execution_count": null,
   "id": "b055c341",
   "metadata": {},
   "outputs": [],
   "source": [
    "from nba_api.stats.endpoints import playerawards\n",
    "\n",
    "lebron_awards = playerawards.PlayerAwards(player_id=2544)\n",
    "lebron_awards_df = lebron_awards.player_awards.get_data_frame()\n",
    "lebron_awards_df.set_index('PERSON_ID', inplace=True)\n",
    "lebron_awards_df.head(10)"
   ]
  },
  {
   "cell_type": "code",
   "execution_count": null,
   "id": "229f062d",
   "metadata": {},
   "outputs": [],
   "source": [
    "lebron_awards_df['DESCRIPTION'].value_counts()"
   ]
  },
  {
   "cell_type": "code",
   "execution_count": null,
   "id": "4c4e6954",
   "metadata": {
    "scrolled": true
   },
   "outputs": [],
   "source": [
    "lebron_all_nba = lebron_awards_df[lebron_awards_df['DESCRIPTION'] == 'All-NBA']\n",
    "lebron_all_nba.columns"
   ]
  },
  {
   "cell_type": "code",
   "execution_count": null,
   "id": "73d4dccf",
   "metadata": {},
   "outputs": [],
   "source": [
    "lebron_all_nba = lebron_all_nba[['FIRST_NAME', 'LAST_NAME', 'TEAM', 'ALL_NBA_TEAM_NUMBER', 'SEASON', 'CONFERENCE']]\n",
    "lebron_all_nba.head()"
   ]
  },
  {
   "cell_type": "code",
   "execution_count": null,
   "id": "011482f8",
   "metadata": {},
   "outputs": [],
   "source": [
    "# def get_awards(ID):\n",
    "    \n",
    "#     player_id = int(ID)\n",
    "    \n",
    "#     p_awards = playerawards.PlayerAwards(player_id=player_id)\n",
    "#     p_awards_df = p_awards.player_awards.get_data_frame()\n",
    "    \n",
    "#     p_all_nba = p_awards_df[p_awards_df['DESCRIPTION'] == 'All-NBA']\n",
    "#     p_all_nba = p_all_nba[['PERSON_ID', 'FIRST_NAME', 'LAST_NAME', 'TEAM', 'ALL_NBA_TEAM_NUMBER', 'SEASON', 'CONFERENCE']]\n",
    "    \n",
    "#     return p_all_nba"
   ]
  },
  {
   "cell_type": "code",
   "execution_count": null,
   "id": "515f46da",
   "metadata": {},
   "outputs": [],
   "source": [
    "# get_awards(2544)"
   ]
  },
  {
   "cell_type": "code",
   "execution_count": null,
   "id": "7f0c387d",
   "metadata": {
    "scrolled": true
   },
   "outputs": [],
   "source": [
    "all_awards = pd.DataFrame(columns=['PERSON_ID','FIRST_NAME', 'LAST_NAME', 'ALL_NBA_TEAM_NUMBER', 'SEASON', 'CONFERENCE'])\n",
    "\n",
    "ids = [2544, 76003, 201607]\n",
    "\n",
    "for player in players_df['id']:\n",
    "    awards = playerawards.PlayerAwards(player_id=player)\n",
    "    awards_df = awards.player_awards.get_data_frame()\n",
    "    \n",
    "    awards_df = awards_df[awards_df['DESCRIPTION'] == 'All-NBA']\n",
    "    awards_df = awards_df[['PERSON_ID','FIRST_NAME', 'LAST_NAME', 'ALL_NBA_TEAM_NUMBER', 'SEASON', 'CONFERENCE']]\n",
    "    \n",
    "    for i in awards_df:\n",
    "        all_awards = all_awards.append(awards_df, ignore_index=True)\n",
    "        \n",
    "all_awards"
   ]
  },
  {
   "cell_type": "code",
   "execution_count": null,
   "id": "cdf56147",
   "metadata": {},
   "outputs": [],
   "source": []
  }
 ],
 "metadata": {
  "kernelspec": {
   "display_name": "PythonData",
   "language": "python",
   "name": "pythondata"
  },
  "language_info": {
   "codemirror_mode": {
    "name": "ipython",
    "version": 3
   },
   "file_extension": ".py",
   "mimetype": "text/x-python",
   "name": "python",
   "nbconvert_exporter": "python",
   "pygments_lexer": "ipython3",
   "version": "3.10.9"
  }
 },
 "nbformat": 4,
 "nbformat_minor": 5
}
